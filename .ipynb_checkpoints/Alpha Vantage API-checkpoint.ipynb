{
 "cells": [
  {
   "cell_type": "code",
   "execution_count": 1,
   "id": "f98163c2",
   "metadata": {},
   "outputs": [],
   "source": [
    "from alpha_vantage.timeseries import TimeSeries"
   ]
  },
  {
   "cell_type": "code",
   "execution_count": 2,
   "id": "5105cf34",
   "metadata": {},
   "outputs": [],
   "source": [
    "API_key = \"H456ZLCOCHH7CH10\""
   ]
  },
  {
   "cell_type": "code",
   "execution_count": 4,
   "id": "d6a1e461",
   "metadata": {},
   "outputs": [],
   "source": [
    "ts = TimeSeries(key=API_key, output_format='pandas')"
   ]
  },
  {
   "cell_type": "code",
   "execution_count": 6,
   "id": "18b54160",
   "metadata": {},
   "outputs": [],
   "source": [
    "data = ts.get_daily(\"AAPL\")"
   ]
  },
  {
   "cell_type": "code",
   "execution_count": 7,
   "id": "82e218cb",
   "metadata": {},
   "outputs": [
    {
     "data": {
      "text/plain": [
       "(            1. open   2. high    3. low  4. close   5. volume\n",
       " date                                                         \n",
       " 2024-10-08  224.290  225.9750  223.2500    225.77  31424996.0\n",
       " 2024-10-07  224.500  225.6900  221.3300    221.69  39505354.0\n",
       " 2024-10-04  227.900  228.0000  224.1300    226.80  37345098.0\n",
       " 2024-10-03  225.140  226.8050  223.3200    225.67  34044158.0\n",
       " 2024-10-02  225.890  227.3700  223.0200    226.78  32880605.0\n",
       " ...             ...       ...       ...       ...         ...\n",
       " 2024-05-22  192.265  192.8231  190.2700    190.90  34648547.0\n",
       " 2024-05-21  191.090  192.7300  190.9201    192.35  42309401.0\n",
       " 2024-05-20  189.325  191.9199  189.0100    191.04  44361275.0\n",
       " 2024-05-17  189.510  190.8100  189.1800    189.87  41282925.0\n",
       " 2024-05-16  190.470  191.0950  189.6601    189.84  52845230.0\n",
       " \n",
       " [100 rows x 5 columns],\n",
       " {'1. Information': 'Daily Prices (open, high, low, close) and Volumes',\n",
       "  '2. Symbol': 'AAPL',\n",
       "  '3. Last Refreshed': '2024-10-08',\n",
       "  '4. Output Size': 'Compact',\n",
       "  '5. Time Zone': 'US/Eastern'})"
      ]
     },
     "execution_count": 7,
     "metadata": {},
     "output_type": "execute_result"
    }
   ],
   "source": [
    "data"
   ]
  },
  {
   "cell_type": "code",
   "execution_count": 9,
   "id": "c8f2aa76",
   "metadata": {},
   "outputs": [],
   "source": [
    "df = data[0]"
   ]
  },
  {
   "cell_type": "code",
   "execution_count": 11,
   "id": "bed88f78",
   "metadata": {},
   "outputs": [
    {
     "data": {
      "text/html": [
       "<div>\n",
       "<style scoped>\n",
       "    .dataframe tbody tr th:only-of-type {\n",
       "        vertical-align: middle;\n",
       "    }\n",
       "\n",
       "    .dataframe tbody tr th {\n",
       "        vertical-align: top;\n",
       "    }\n",
       "\n",
       "    .dataframe thead th {\n",
       "        text-align: right;\n",
       "    }\n",
       "</style>\n",
       "<table border=\"1\" class=\"dataframe\">\n",
       "  <thead>\n",
       "    <tr style=\"text-align: right;\">\n",
       "      <th></th>\n",
       "      <th>4. close</th>\n",
       "    </tr>\n",
       "    <tr>\n",
       "      <th>date</th>\n",
       "      <th></th>\n",
       "    </tr>\n",
       "  </thead>\n",
       "  <tbody>\n",
       "    <tr>\n",
       "      <th>2024-10-08</th>\n",
       "      <td>225.77</td>\n",
       "    </tr>\n",
       "    <tr>\n",
       "      <th>2024-10-07</th>\n",
       "      <td>221.69</td>\n",
       "    </tr>\n",
       "    <tr>\n",
       "      <th>2024-10-04</th>\n",
       "      <td>226.80</td>\n",
       "    </tr>\n",
       "    <tr>\n",
       "      <th>2024-10-03</th>\n",
       "      <td>225.67</td>\n",
       "    </tr>\n",
       "    <tr>\n",
       "      <th>2024-10-02</th>\n",
       "      <td>226.78</td>\n",
       "    </tr>\n",
       "    <tr>\n",
       "      <th>...</th>\n",
       "      <td>...</td>\n",
       "    </tr>\n",
       "    <tr>\n",
       "      <th>2024-05-22</th>\n",
       "      <td>190.90</td>\n",
       "    </tr>\n",
       "    <tr>\n",
       "      <th>2024-05-21</th>\n",
       "      <td>192.35</td>\n",
       "    </tr>\n",
       "    <tr>\n",
       "      <th>2024-05-20</th>\n",
       "      <td>191.04</td>\n",
       "    </tr>\n",
       "    <tr>\n",
       "      <th>2024-05-17</th>\n",
       "      <td>189.87</td>\n",
       "    </tr>\n",
       "    <tr>\n",
       "      <th>2024-05-16</th>\n",
       "      <td>189.84</td>\n",
       "    </tr>\n",
       "  </tbody>\n",
       "</table>\n",
       "<p>100 rows × 1 columns</p>\n",
       "</div>"
      ],
      "text/plain": [
       "            4. close\n",
       "date                \n",
       "2024-10-08    225.77\n",
       "2024-10-07    221.69\n",
       "2024-10-04    226.80\n",
       "2024-10-03    225.67\n",
       "2024-10-02    226.78\n",
       "...              ...\n",
       "2024-05-22    190.90\n",
       "2024-05-21    192.35\n",
       "2024-05-20    191.04\n",
       "2024-05-17    189.87\n",
       "2024-05-16    189.84\n",
       "\n",
       "[100 rows x 1 columns]"
      ]
     },
     "execution_count": 11,
     "metadata": {},
     "output_type": "execute_result"
    }
   ],
   "source": [
    "df[\"4. close\"].to_frame()"
   ]
  },
  {
   "cell_type": "code",
   "execution_count": null,
   "id": "f7a1b952",
   "metadata": {},
   "outputs": [],
   "source": []
  },
  {
   "cell_type": "code",
   "execution_count": null,
   "id": "9ef4dd27",
   "metadata": {},
   "outputs": [],
   "source": []
  }
 ],
 "metadata": {
  "kernelspec": {
   "display_name": "Python 3",
   "language": "python",
   "name": "python3"
  },
  "language_info": {
   "codemirror_mode": {
    "name": "ipython",
    "version": 3
   },
   "file_extension": ".py",
   "mimetype": "text/x-python",
   "name": "python",
   "nbconvert_exporter": "python",
   "pygments_lexer": "ipython3",
   "version": "3.9.7"
  }
 },
 "nbformat": 4,
 "nbformat_minor": 5
}
