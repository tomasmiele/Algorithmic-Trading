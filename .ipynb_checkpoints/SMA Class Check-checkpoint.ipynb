{
 "cells": [
  {
   "cell_type": "code",
   "execution_count": 1,
   "id": "fbb9c23b",
   "metadata": {},
   "outputs": [],
   "source": [
    "from smabacktest import SMABacktester"
   ]
  },
  {
   "cell_type": "code",
   "execution_count": 2,
   "id": "fd589e8c",
   "metadata": {},
   "outputs": [
    {
     "name": "stderr",
     "output_type": "stream",
     "text": [
      "[*********************100%%**********************]  1 of 1 completed\n"
     ]
    }
   ],
   "source": [
    "tester = SMABacktester(\"SPY\", 50, 100, \"2000-01-01\", \"2020-01-01\")"
   ]
  },
  {
   "cell_type": "code",
   "execution_count": 3,
   "id": "f9de7454",
   "metadata": {},
   "outputs": [
    {
     "data": {
      "text/plain": [
       "(2.592726, 0.297824)"
      ]
     },
     "execution_count": 3,
     "metadata": {},
     "output_type": "execute_result"
    }
   ],
   "source": [
    "tester.test_results()"
   ]
  },
  {
   "cell_type": "code",
   "execution_count": 4,
   "id": "bfbf905b",
   "metadata": {},
   "outputs": [],
   "source": [
    "tester.plot_results()"
   ]
  }
 ],
 "metadata": {
  "kernelspec": {
   "display_name": "Python 3",
   "language": "python",
   "name": "python3"
  },
  "language_info": {
   "codemirror_mode": {
    "name": "ipython",
    "version": 3
   },
   "file_extension": ".py",
   "mimetype": "text/x-python",
   "name": "python",
   "nbconvert_exporter": "python",
   "pygments_lexer": "ipython3",
   "version": "3.9.7"
  }
 },
 "nbformat": 4,
 "nbformat_minor": 5
}
